{
 "cells": [
  {
   "cell_type": "markdown",
   "id": "cf35a93a-b44a-4213-b9ca-215bd7d6e10c",
   "metadata": {},
   "source": [
    "# Map for Tipzy"
   ]
  },
  {
   "cell_type": "code",
   "execution_count": 1,
   "id": "6611e31f-8c5c-4046-a34f-b67ee680f53e",
   "metadata": {},
   "outputs": [
    {
     "ename": "OSError",
     "evalue": "[Errno 30] Read-only file system: '/mnt'",
     "output_type": "error",
     "traceback": [
      "\u001b[0;31m---------------------------------------------------------------------------\u001b[0m",
      "\u001b[0;31mOSError\u001b[0m                                   Traceback (most recent call last)",
      "Cell \u001b[0;32mIn[1], line 19\u001b[0m\n\u001b[1;32m     16\u001b[0m         \u001b[38;5;28;01mreturn\u001b[39;00m pd\u001b[38;5;241m.\u001b[39mread_csv(\u001b[38;5;124mf\u001b[39m\u001b[38;5;124m\"\u001b[39m\u001b[38;5;124m/mnt/data/\u001b[39m\u001b[38;5;132;01m{\u001b[39;00mfile_name\u001b[38;5;132;01m}\u001b[39;00m\u001b[38;5;124m\"\u001b[39m)\n\u001b[1;32m     18\u001b[0m \u001b[38;5;66;03m# Read both CSV files\u001b[39;00m\n\u001b[0;32m---> 19\u001b[0m df_colleges \u001b[38;5;241m=\u001b[39m \u001b[43mread_csv_from_zip\u001b[49m\u001b[43m(\u001b[49m\u001b[43mzip_file_colleges\u001b[49m\u001b[43m)\u001b[49m\n\u001b[1;32m     20\u001b[0m df_entertainment \u001b[38;5;241m=\u001b[39m read_csv_from_zip(zip_file_entertainment)\n\u001b[1;32m     22\u001b[0m \u001b[38;5;66;03m# Display the first few rows of each dataframe\u001b[39;00m\n",
      "Cell \u001b[0;32mIn[1], line 13\u001b[0m, in \u001b[0;36mread_csv_from_zip\u001b[0;34m(zip_file_path)\u001b[0m\n\u001b[1;32m     10\u001b[0m \u001b[38;5;28;01mdef\u001b[39;00m \u001b[38;5;21mread_csv_from_zip\u001b[39m(zip_file_path):\n\u001b[1;32m     11\u001b[0m     \u001b[38;5;28;01mwith\u001b[39;00m zipfile\u001b[38;5;241m.\u001b[39mZipFile(zip_file_path, \u001b[38;5;124m'\u001b[39m\u001b[38;5;124mr\u001b[39m\u001b[38;5;124m'\u001b[39m) \u001b[38;5;28;01mas\u001b[39;00m z:\n\u001b[1;32m     12\u001b[0m         \u001b[38;5;66;03m# Extract all the contents into a directory\u001b[39;00m\n\u001b[0;32m---> 13\u001b[0m         \u001b[43mz\u001b[49m\u001b[38;5;241;43m.\u001b[39;49m\u001b[43mextractall\u001b[49m\u001b[43m(\u001b[49m\u001b[43mpath\u001b[49m\u001b[38;5;241;43m=\u001b[39;49m\u001b[38;5;124;43m\"\u001b[39;49m\u001b[38;5;124;43m/mnt/data\u001b[39;49m\u001b[38;5;124;43m\"\u001b[39;49m\u001b[43m)\u001b[49m\n\u001b[1;32m     14\u001b[0m         \u001b[38;5;66;03m# Assuming there is only one file in the zip\u001b[39;00m\n\u001b[1;32m     15\u001b[0m         file_name \u001b[38;5;241m=\u001b[39m z\u001b[38;5;241m.\u001b[39mnamelist()[\u001b[38;5;241m0\u001b[39m]\n",
      "File \u001b[0;32m/Library/Frameworks/Python.framework/Versions/3.12/lib/python3.12/zipfile/__init__.py:1720\u001b[0m, in \u001b[0;36mZipFile.extractall\u001b[0;34m(self, path, members, pwd)\u001b[0m\n\u001b[1;32m   1717\u001b[0m     path \u001b[38;5;241m=\u001b[39m os\u001b[38;5;241m.\u001b[39mfspath(path)\n\u001b[1;32m   1719\u001b[0m \u001b[38;5;28;01mfor\u001b[39;00m zipinfo \u001b[38;5;129;01min\u001b[39;00m members:\n\u001b[0;32m-> 1720\u001b[0m     \u001b[38;5;28;43mself\u001b[39;49m\u001b[38;5;241;43m.\u001b[39;49m\u001b[43m_extract_member\u001b[49m\u001b[43m(\u001b[49m\u001b[43mzipinfo\u001b[49m\u001b[43m,\u001b[49m\u001b[43m \u001b[49m\u001b[43mpath\u001b[49m\u001b[43m,\u001b[49m\u001b[43m \u001b[49m\u001b[43mpwd\u001b[49m\u001b[43m)\u001b[49m\n",
      "File \u001b[0;32m/Library/Frameworks/Python.framework/Versions/3.12/lib/python3.12/zipfile/__init__.py:1769\u001b[0m, in \u001b[0;36mZipFile._extract_member\u001b[0;34m(self, member, targetpath, pwd)\u001b[0m\n\u001b[1;32m   1767\u001b[0m upperdirs \u001b[38;5;241m=\u001b[39m os\u001b[38;5;241m.\u001b[39mpath\u001b[38;5;241m.\u001b[39mdirname(targetpath)\n\u001b[1;32m   1768\u001b[0m \u001b[38;5;28;01mif\u001b[39;00m upperdirs \u001b[38;5;129;01mand\u001b[39;00m \u001b[38;5;129;01mnot\u001b[39;00m os\u001b[38;5;241m.\u001b[39mpath\u001b[38;5;241m.\u001b[39mexists(upperdirs):\n\u001b[0;32m-> 1769\u001b[0m     \u001b[43mos\u001b[49m\u001b[38;5;241;43m.\u001b[39;49m\u001b[43mmakedirs\u001b[49m\u001b[43m(\u001b[49m\u001b[43mupperdirs\u001b[49m\u001b[43m)\u001b[49m\n\u001b[1;32m   1771\u001b[0m \u001b[38;5;28;01mif\u001b[39;00m member\u001b[38;5;241m.\u001b[39mis_dir():\n\u001b[1;32m   1772\u001b[0m     \u001b[38;5;28;01mif\u001b[39;00m \u001b[38;5;129;01mnot\u001b[39;00m os\u001b[38;5;241m.\u001b[39mpath\u001b[38;5;241m.\u001b[39misdir(targetpath):\n",
      "File \u001b[0;32m<frozen os>:215\u001b[0m, in \u001b[0;36mmakedirs\u001b[0;34m(name, mode, exist_ok)\u001b[0m\n",
      "File \u001b[0;32m<frozen os>:225\u001b[0m, in \u001b[0;36mmakedirs\u001b[0;34m(name, mode, exist_ok)\u001b[0m\n",
      "\u001b[0;31mOSError\u001b[0m: [Errno 30] Read-only file system: '/mnt'"
     ]
    }
   ],
   "source": [
    "import pandas as pd\n",
    "import zipfile\n",
    "import os\n",
    "\n",
    "# File paths\n",
    "zip_file_colleges = 'csvs/CensusData_colleges.zip'  # Replace with your file path\n",
    "zip_file_entertainment = 'csvs/CensusData_entertainment.zip'  # Replace with your file path\n",
    "\n",
    "# Function to extract and read CSV from ZIP\n",
    "def read_csv_from_zip(zip_file_path):\n",
    "    with zipfile.ZipFile(zip_file_path, 'r') as z:\n",
    "        # Extract all the contents into a directory\n",
    "        z.extractall(path=\"/mnt/data\")\n",
    "        # Assuming there is only one file in the zip\n",
    "        file_name = z.namelist()[0]\n",
    "        return pd.read_csv(f\"/mnt/data/{file_name}\")\n",
    "\n",
    "# Read both CSV files\n",
    "df_colleges = read_csv_from_zip(zip_file_colleges)\n",
    "df_entertainment = read_csv_from_zip(zip_file_entertainment)\n",
    "\n",
    "# Display the first few rows of each dataframe\n",
    "print(df_colleges.head())\n",
    "print(df_entertainment.head())\n"
   ]
  },
  {
   "cell_type": "code",
   "execution_count": 2,
   "id": "a40be9f4-0076-4bc1-b871-6e039dc78a45",
   "metadata": {},
   "outputs": [
    {
     "name": "stdout",
     "output_type": "stream",
     "text": [
      "  Industry Selected (NAICS)                                     61131\n",
      "0                 Worksheet                                   Sources\n",
      "1                   MapData  Quarterly Census of Employment and Wages\n",
      "  Industry Selected (NAICS)                 312130*4453*722410*713990\n",
      "0                 Worksheet                                   Sources\n",
      "1                   MapData  Quarterly Census of Employment and Wages\n"
     ]
    }
   ],
   "source": [
    "import pandas as pd\n",
    "import zipfile\n",
    "\n",
    "# Function to extract and read CSV from ZIP, adjusted for read-only file system\n",
    "def read_csv_from_zip_adjusted(zip_file_path):\n",
    "    with zipfile.ZipFile(zip_file_path, 'r') as z:\n",
    "        # Extract the file name\n",
    "        file_name = z.namelist()[0]\n",
    "        # Open the file within the zip\n",
    "        with z.open(file_name) as f:\n",
    "            return pd.read_csv(f)\n",
    "\n",
    "# File paths - replace with your actual file paths\n",
    "zip_file_colleges = 'csvs/CensusData_colleges.zip'\n",
    "zip_file_entertainment = 'csvs/CensusData_entertainment.zip'\n",
    "\n",
    "# Read both CSV files\n",
    "df_colleges = read_csv_from_zip_adjusted(zip_file_colleges)\n",
    "df_entertainment = read_csv_from_zip_adjusted(zip_file_entertainment)\n",
    "\n",
    "# Display the first few rows of each dataframe\n",
    "print(df_colleges.head())\n",
    "print(df_entertainment.head())\n"
   ]
  },
  {
   "cell_type": "code",
   "execution_count": null,
   "id": "3e7c37f9-b53e-4bff-a264-beddf11dc466",
   "metadata": {},
   "outputs": [],
   "source": []
  }
 ],
 "metadata": {
  "kernelspec": {
   "display_name": "Python 3 (ipykernel)",
   "language": "python",
   "name": "python3"
  },
  "language_info": {
   "codemirror_mode": {
    "name": "ipython",
    "version": 3
   },
   "file_extension": ".py",
   "mimetype": "text/x-python",
   "name": "python",
   "nbconvert_exporter": "python",
   "pygments_lexer": "ipython3",
   "version": "3.12.0"
  }
 },
 "nbformat": 4,
 "nbformat_minor": 5
}
